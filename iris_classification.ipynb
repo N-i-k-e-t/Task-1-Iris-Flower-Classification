import pandas as pd
import numpy as np
from sklearn.model_selection import train_test_split, GridSearchCV
from sklearn.preprocessing import StandardScaler, LabelEncoder
from sklearn.metrics import accuracy_score, confusion_matrix
from sklearn.neighbors import KNeighborsClassifier
from sklearn.decomposition import PCA  # Import PCA
from sklearn.manifold import TSNE  # Import TSNE
import matplotlib.pyplot as plt
import seaborn as sns

from google.colab import drive
drive.mount('/content/drive')

# Replace with the actual path to your CSV file
file_path = '/content/drive/MyDrive/Dataset/Iris.csv'
iris_data = pd.read_csv(file_path)
iris_data.rename(columns={'PetalWidtł': 'PetalWidth'}, inplace=True)

X = iris_data.drop(['Id', 'Species'], axis=1)
y = iris_data['Species']

# Encode the target variable 'y'
label_encoder = LabelEncoder()
y_encoded = label_encoder.fit_transform(y)

scaler = StandardScaler()
X = scaler.fit_transform(X)

X_train, X_test, y_train, y_test = train_test_split(X, y_encoded, test_size=0.2, random_state=42)

# --- K-Nearest Neighbors (KNN) ---
knn_model = KNeighborsClassifier()
knn_param_grid = {'n_neighbors': [3, 5, 7, 9, 11]}
knn_grid_search = GridSearchCV(knn_model, knn_param_grid, cv=5, scoring='accuracy')
knn_grid_search.fit(X_train, y_train)
best_knn = knn_grid_search.best_estimator_

y_pred_knn = best_knn.predict(X_test)

# --- Output and Visualization ---
print(f"\n--- K-Nearest Neighbors ---")
print(f"Best Parameters: {knn_grid_search.best_params_}")
print(f"Accuracy: {accuracy_score(y_test, y_pred_knn):.2f}")
print("Confusion Matrix:\n", confusion_matrix(y_test, y_pred_knn))

# 1. Confusion Matrix Heatmap
plt.figure(figsize=(6, 4))
sns.heatmap(confusion_matrix(y_test, y_pred_knn), annot=True, fmt="d", cmap="Blues",
            xticklabels=label_encoder.classes_,  # Use label_encoder.classes_
            yticklabels=label_encoder.classes_)
plt.xlabel('Predicted Label')
plt.ylabel('True Label')
plt.title('Confusion Matrix for KNN')
plt.show()

# 2. Decision Boundary Visualization (Using only 2 features)
X_2d = X[:, :2]
knn_2d = KNeighborsClassifier(**knn_grid_search.best_params_)
knn_2d.fit(X_2d, y_encoded)

x_min, x_max = X_2d[:, 0].min() - 1, X_2d[:, 0].max() + 1
y_min, y_max = X_2d[:, 1].min() - 1, X_2d[:, 1].max() + 1
xx, yy = np.meshgrid(np.arange(x_min, x_max, 0.01),
                     np.arange(y_min, y_max, 0.01))

Z = knn_2d.predict(np.c_[xx.ravel(), yy.ravel()])
Z = Z.reshape(xx.shape)

plt.contourf(xx, yy, Z, alpha=0.8, cmap='Pastel1')
sns.scatterplot(x=X_2d[:, 0], y=X_2d[:, 1], hue=y_encoded, palette='deep', edgecolor='k')
plt.xlabel('Sepal Length (cm)')
plt.ylabel('Sepal Width (cm)')
plt.title('KNN Decision Boundaries')
plt.legend(title='Species', labels=label_encoder.classes_)
plt.show()


# Pair plot with species color-coding
sns.pairplot(iris_data, hue='Species', diag_kind='kde')
plt.show()
